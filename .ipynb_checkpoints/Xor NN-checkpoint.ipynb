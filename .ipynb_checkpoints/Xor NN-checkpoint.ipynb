{
 "cells": [
  {
   "cell_type": "markdown",
   "id": "bc8c87e4-77af-4dc7-ac98-6b4fceb14827",
   "metadata": {},
   "source": [
    "Install imports"
   ]
  },
  {
   "cell_type": "markdown",
   "id": "6cbed153-2323-432d-a69e-83af3f094345",
   "metadata": {},
   "source": [
    "!pip install panda\n",
    "!pip install numpy\n",
    "!pip install tensorflow\n",
    "!pip install scipy\n"
   ]
  },
  {
   "cell_type": "code",
   "execution_count": null,
   "id": "6981e73f-3088-493d-bdff-4c7cbd1ff7c7",
   "metadata": {},
   "outputs": [],
   "source": [
    "import tensorflow as tf\n",
    "from tensorflow import keras\n",
    "from tensorflow.keras import layers\n",
    "import numpy as np\n",
    "import scipy"
   ]
  },
  {
   "cell_type": "code",
   "execution_count": null,
   "id": "ddb8881f-7ca0-4b6c-bc12-f73e59779a71",
   "metadata": {},
   "outputs": [],
   "source": [
    "x_data = [\n",
    "    [0,0],\n",
    "    [0,1],\n",
    "    [1,0],\n",
    "    [1,1]\n",
    "]\n",
    "\n",
    "y_data = [\n",
    "    [0],\n",
    "    [1],\n",
    "    [1],\n",
    "    [0]\n",
    "]"
   ]
  },
  {
   "cell_type": "code",
   "execution_count": null,
   "id": "d861c56d-7f01-4610-a454-0663cf97b25f",
   "metadata": {},
   "outputs": [],
   "source": [
    "x_data = np.array(x_data)\n",
    "y_data = np.array(y_data)"
   ]
  },
  {
   "cell_type": "code",
   "execution_count": null,
   "id": "e576969c-6502-4db5-ae4e-a1e9f4dcb67e",
   "metadata": {},
   "outputs": [],
   "source": [
    "x_data.shape"
   ]
  },
  {
   "cell_type": "code",
   "execution_count": null,
   "id": "7cf6a790-7c3b-45c6-96c2-0e173602c951",
   "metadata": {},
   "outputs": [],
   "source": [
    "y_data.shape"
   ]
  },
  {
   "cell_type": "code",
   "execution_count": null,
   "id": "2c6eb9d0-76b8-4af5-b7a7-258ca1ac4ed4",
   "metadata": {},
   "outputs": [],
   "source": [
    "model = keras.Sequential()\n",
    "model.add(layers.Dense(32, activation=\"sigmoid\"))\n",
    "model.add(layers.Dense(1, activation=\"sigmoid\"))\n"
   ]
  },
  {
   "cell_type": "code",
   "execution_count": null,
   "id": "7ac9a34e-aaff-4c18-bcb9-ed477cc424b8",
   "metadata": {},
   "outputs": [],
   "source": [
    "optimizer = tf.keras.optimizers.SGD(learning_rate=0.1)"
   ]
  },
  {
   "cell_type": "code",
   "execution_count": null,
   "id": "ef7aeb83-6e2b-4ba3-8a6e-079c0cf8d389",
   "metadata": {},
   "outputs": [],
   "source": [
    "model.compile(optimizer=optimizer,loss=\"binary_crossentropy\", metrics=[\"accuracy\"])"
   ]
  },
  {
   "cell_type": "code",
   "execution_count": null,
   "id": "e4de2d25-baff-498e-9698-5ebe59f146a2",
   "metadata": {},
   "outputs": [],
   "source": [
    "model.fit(x_data, y_data, batch_size=4, epochs=5000)"
   ]
  },
  {
   "cell_type": "code",
   "execution_count": 1,
   "id": "d8d9b357-64f2-4aa6-87e2-87d09ccd06eb",
   "metadata": {},
   "outputs": [
    {
     "ename": "NameError",
     "evalue": "name 'model' is not defined",
     "output_type": "error",
     "traceback": [
      "\u001b[1;31m---------------------------------------------------------------------------\u001b[0m",
      "\u001b[1;31mNameError\u001b[0m                                 Traceback (most recent call last)",
      "\u001b[1;32m<ipython-input-1-0a6dc0f77635>\u001b[0m in \u001b[0;36m<module>\u001b[1;34m\u001b[0m\n\u001b[1;32m----> 1\u001b[1;33m \u001b[0mmodel\u001b[0m\u001b[1;33m.\u001b[0m\u001b[0msummary\u001b[0m\u001b[1;33m\u001b[0m\u001b[1;33m\u001b[0m\u001b[0m\n\u001b[0m",
      "\u001b[1;31mNameError\u001b[0m: name 'model' is not defined"
     ]
    }
   ],
   "source": [
    "model.summary()"
   ]
  },
  {
   "cell_type": "code",
   "execution_count": null,
   "id": "747277f6-48c0-4a7e-a3f4-ad6ce8b703d3",
   "metadata": {},
   "outputs": [],
   "source": [
    "predict = model.predict(x_data)\n",
    "print(np.round(predict))"
   ]
  },
  {
   "cell_type": "code",
   "execution_count": null,
   "id": "33322877-cdfd-4174-bf1d-769dace69d02",
   "metadata": {},
   "outputs": [],
   "source": []
  }
 ],
 "metadata": {
  "kernelspec": {
   "display_name": "Python 3",
   "language": "python",
   "name": "python3"
  },
  "language_info": {
   "codemirror_mode": {
    "name": "ipython",
    "version": 3
   },
   "file_extension": ".py",
   "mimetype": "text/x-python",
   "name": "python",
   "nbconvert_exporter": "python",
   "pygments_lexer": "ipython3",
   "version": "3.8.8"
  }
 },
 "nbformat": 4,
 "nbformat_minor": 5
}
